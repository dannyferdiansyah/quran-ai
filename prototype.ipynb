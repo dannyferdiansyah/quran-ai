{
 "cells": [
  {
   "cell_type": "code",
   "execution_count": 1,
   "metadata": {},
   "outputs": [
    {
     "data": {
      "text/plain": [
       "True"
      ]
     },
     "execution_count": 1,
     "metadata": {},
     "output_type": "execute_result"
    }
   ],
   "source": [
    "from dotenv import load_dotenv\n",
    "import numpy as np\n",
    "\n",
    "# Load environment variables from .env file\n",
    "load_dotenv()"
   ]
  },
  {
   "cell_type": "code",
   "execution_count": 2,
   "metadata": {},
   "outputs": [],
   "source": [
    "from google.api_core import retry\n",
    "\n",
    "@retry.Retry()\n",
    "def retry_chat(**kwargs):\n",
    "  return palm.chat(**kwargs)\n",
    "\n",
    "@retry.Retry()\n",
    "def retry_reply(self, arg):\n",
    "  return self.reply(arg)\n"
   ]
  },
  {
   "cell_type": "code",
   "execution_count": 3,
   "metadata": {},
   "outputs": [],
   "source": [
    "import google.generativeai as palm\n",
    "import os\n",
    "\n",
    "api_key = os.getenv(\"GOOGLE_API_KEY\")\n",
    "palm.configure(api_key=api_key)"
   ]
  },
  {
   "cell_type": "code",
   "execution_count": 4,
   "metadata": {},
   "outputs": [
    {
     "name": "stdout",
     "output_type": "stream",
     "text": [
      "models/chat-bison-001\n"
     ]
    }
   ],
   "source": [
    "models = [m for m in palm.list_models() if 'generateMessage' in m.supported_generation_methods]\n",
    "model = models[0].name\n",
    "print(model)"
   ]
  },
  {
   "cell_type": "code",
   "execution_count": 5,
   "metadata": {},
   "outputs": [],
   "source": [
    "question=\"\"\"\n",
    "hello, I need to know the words \"Work\" available in Al-Qur'an. Can you tell me what Surah, Ayat and Translation?\n",
    "\"\"\""
   ]
  },
  {
   "cell_type": "code",
   "execution_count": 6,
   "metadata": {},
   "outputs": [
    {
     "name": "stdout",
     "output_type": "stream",
     "text": [
      "The word \"work\" is used in the Quran in a number of different ways. It can refer to physical labor, such as farming or building, as well as mental labor, such as studying or writing. It can also refer to the act of worship, as in performing the five daily prayers.\n",
      "\n",
      "The Quran teaches that work is a part of our religious duty. In Surah 2:29, Allah says, \"And We have appointed for them a law and a path. If only they were to follow the guidance of the Messenger, they would have found security and abundance from every side.\" This verse indicates that following the guidance of the Prophet Muhammad (peace be upon him) includes working hard and striving to improve our lives.\n",
      "\n",
      "The Quran also teaches that work is a way to earn a living. In Surah 5:32, Allah says, \"For those who believe and do righteous deeds, We will surely give them a good life and We will surely reward them according to the best of their deeds.\" This verse indicates that those who work hard and do good deeds will be rewarded in this life and the next.\n",
      "\n",
      "The Quran also teaches that work is a way to serve Allah. In Surah 62:10, Allah says, \"And whatever you spend of good is for the sake of Allah. And never will it be lost to you.\" This verse indicates that all of our work, whether it is physical or mental, is for the sake of Allah and will be rewarded by Him.\n",
      "\n",
      "In conclusion, the word \"work\" is used in the Quran in a number of different ways. It can refer to physical labor, mental labor, the act of worship, and a way to earn a living. The Quran teaches that work is a part of our religious duty, a way to earn a living, and a way to serve Allah.\n"
     ]
    }
   ],
   "source": [
    "response = retry_chat(\n",
    "    model=model,\n",
    "    context=\"You are a professional Quran Reciter and good at searchingords in Quran.\",\n",
    "    messages=question,\n",
    ")\n",
    "\n",
    "print(response.last)"
   ]
  }
 ],
 "metadata": {
  "kernelspec": {
   "display_name": "Python 3",
   "language": "python",
   "name": "python3"
  },
  "language_info": {
   "codemirror_mode": {
    "name": "ipython",
    "version": 3
   },
   "file_extension": ".py",
   "mimetype": "text/x-python",
   "name": "python",
   "nbconvert_exporter": "python",
   "pygments_lexer": "ipython3",
   "version": "3.10.7"
  }
 },
 "nbformat": 4,
 "nbformat_minor": 2
}
